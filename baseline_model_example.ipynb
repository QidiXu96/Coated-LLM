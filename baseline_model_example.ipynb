{
  "nbformat": 4,
  "nbformat_minor": 0,
  "metadata": {
    "colab": {
      "provenance": [],
      "authorship_tag": "ABX9TyOugXvYW9YidcTfv5ik7P7E",
      "include_colab_link": true
    },
    "kernelspec": {
      "name": "python3",
      "display_name": "Python 3"
    },
    "language_info": {
      "name": "python"
    }
  },
  "cells": [
    {
      "cell_type": "markdown",
      "metadata": {
        "id": "view-in-github",
        "colab_type": "text"
      },
      "source": [
        "<a href=\"https://colab.research.google.com/github/QidiXu96/Coated-LLM/blob/main/baseline_model_example.ipynb\" target=\"_parent\"><img src=\"https://colab.research.google.com/assets/colab-badge.svg\" alt=\"Open In Colab\"/></a>"
      ]
    },
    {
      "cell_type": "code",
      "execution_count": 2,
      "metadata": {
        "id": "oNJuknckGcF8"
      },
      "outputs": [],
      "source": [
        "from baseline_functions import ADtarget, complementary_exposure_baseline\n",
        "import pandas as pd\n"
      ]
    },
    {
      "cell_type": "code",
      "source": [
        "drug_file = '/content/List of AD Drugs & Target Genes.xlsx'\n",
        "ad_genes_file = '/content/Agora-gene-list.csv'\n",
        "output_file = '/content/AD_hits_results.xlsx'\n",
        "\n",
        "overlap_df = ADtarget(drug_file, ad_genes_file, output_file)\n",
        "print(\"Overlap results saved to:\", output_file)\n",
        "\n",
        "combination_file = '/content/AD_drug_combinations.xlsx'\n",
        "combination_df = pd.read_excel(combination_file)\n",
        "\n",
        "# Run complementary_exposure_baseline function\n",
        "result_df = complementary_exposure_baseline(overlap_df, combination_df)\n",
        "result_df.to_excel('baseline_result.xlsx', index=False)"
      ],
      "metadata": {
        "colab": {
          "base_uri": "https://localhost:8080/"
        },
        "id": "8Sl_gRAmGeze",
        "outputId": "fcfbae8c-cdb0-49b9-ad94-a053e34d621e"
      },
      "execution_count": 4,
      "outputs": [
        {
          "output_type": "stream",
          "name": "stdout",
          "text": [
            "Overlap results saved to: /content/AD_hits_results.xlsx\n"
          ]
        }
      ]
    }
  ]
}