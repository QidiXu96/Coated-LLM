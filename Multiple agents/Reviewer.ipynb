{
 "cells": [
  {
   "cell_type": "code",
   "execution_count": 1,
   "metadata": {},
   "outputs": [],
   "source": [
    "def reviewer(client, content_chain, model_name=\"claude-3-opus-20240229\"):\n",
    "    try:\n",
    "        prompt = \"Previous response: \" + content_chain + \"\\n\\n\" + \"Please evaluate the response. Explore the potential for drug interactions that could limit or enhance effectiveness.\"\n",
    "\n",
    "        # Call the model to generate a review\n",
    "        message = client.messages.create(\n",
    "            model=model_name,\n",
    "            max_tokens=1500,\n",
    "            temperature=0.7,\n",
    "            system=\"Imagine three different experts who are in therapy development for Alzheimer's disease, are tasked with critically reviewing the reasoning and conclusions regarding the effectiveness of a combination of two drugs on an Alzheimer's disease animal model from a theoretical perspective. \\\n",
    "            All experts will write down 1 step of their thinking, then share it with the group. Then all experts will go on to the next step, etc. If any expert realizes they're wrong at any point, then they leave. \\\n",
    "            At the end of the discussion, the remaining experts will summarize their conclusions, highlighting any potential drug interactions that could limit or enhance effectiveness.\",\n",
    "            messages=[\n",
    "                {\"role\": \"user\", \"content\": prompt}\n",
    "            ]\n",
    "        )\n",
    "\n",
    "        # Extract the feedback from the model's response\n",
    "        feedback = message.content[0].text\n",
    "        return feedback\n",
    "    except Exception as e:\n",
    "        return str(e)"
   ]
  },
  {
   "cell_type": "code",
   "execution_count": 2,
   "metadata": {},
   "outputs": [],
   "source": [
    "def process_reviewer_multiple_runs(CoT_json_file, client, batch_size=10, runs=1, results_path='.'):\n",
    "    with open(CoT_json_file, 'r') as file:\n",
    "        entries = json.load(file)  # Selected chain_of_thoughts to send for review\n",
    "\n",
    "    keys = list(entries.keys())\n",
    "    total = len(keys)\n",
    "\n",
    "    os.makedirs(results_path, exist_ok=True)\n",
    "\n",
    "    for run in range(1, runs + 1):\n",
    "        feedbacks = {}\n",
    "        for i in range(0, total, batch_size):\n",
    "            batch_keys = keys[i:i + batch_size]\n",
    "            for key in batch_keys:\n",
    "                feedbacks[key] = reviewer(client, entries[key]['chain_of_thoughts'])\n",
    "                time.sleep(2)  # Sleep to prevent hitting rate limits\n",
    "\n",
    "        # Save feedback to a JSON file in the results path\n",
    "        result_file = os.path.join(results_path, f'feedbacks_{run}.json')\n",
    "        with open(result_file, 'w') as f:\n",
    "            json.dump(feedbacks, f, indent=4)\n",
    "\n",
    "        print(f\"Run {run} completed and saved to {result_file}.\")\n",
    "\n",
    "    print(\"All runs processed and saved.\")"
   ]
  },
  {
   "cell_type": "code",
   "execution_count": null,
   "metadata": {},
   "outputs": [],
   "source": []
  }
 ],
 "metadata": {
  "kernelspec": {
   "display_name": "Python 3.11",
   "language": "python",
   "name": "python-3.11"
  },
  "language_info": {
   "codemirror_mode": {
    "name": "ipython",
    "version": 3
   },
   "file_extension": ".py",
   "mimetype": "text/x-python",
   "name": "python",
   "nbconvert_exporter": "python",
   "pygments_lexer": "ipython3",
   "version": "3.11.1"
  }
 },
 "nbformat": 4,
 "nbformat_minor": 4
}
